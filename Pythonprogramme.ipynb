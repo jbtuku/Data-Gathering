{
  "nbformat": 4,
  "nbformat_minor": 0,
  "metadata": {
    "colab": {
      "provenance": [],
      "authorship_tag": "ABX9TyMbc/gqdy/E7wIiZMrRcFsh",
      "include_colab_link": true
    },
    "kernelspec": {
      "name": "python3",
      "display_name": "Python 3"
    },
    "language_info": {
      "name": "python"
    }
  },
  "cells": [
    {
      "cell_type": "markdown",
      "metadata": {
        "id": "view-in-github",
        "colab_type": "text"
      },
      "source": [
        "<a href=\"https://colab.research.google.com/github/jbtuku/Data-Gathering/blob/main/Pythonprogramme.ipynb\" target=\"_parent\"><img src=\"https://colab.research.google.com/assets/colab-badge.svg\" alt=\"Open In Colab\"/></a>"
      ]
    },
    {
      "cell_type": "code",
      "execution_count": 1,
      "metadata": {
        "colab": {
          "base_uri": "https://localhost:8080/"
        },
        "id": "GGqLPhFT_y9O",
        "outputId": "0e940bc5-67da-45fc-8e01-cd05426b24f2"
      },
      "outputs": [
        {
          "output_type": "stream",
          "name": "stdout",
          "text": [
            "A. Is it raining in Portland, OR right now?\n",
            "No, it is not currently raining in Portland.\n",
            "\n",
            "B. Is it forecasted to be raining in Portland within the next three days?\n",
            "→ Yes, it is forecasted to rain in Portland within the next 3 days.\n"
          ]
        }
      ],
      "source": [
        "import requests\n",
        "\n",
        "\n",
        "api_key = \"d9b0b632cd2847418cf82c736b50f309\"\n",
        "\n",
        "\n",
        "city = \"Portland\"\n",
        "country = \"US\"\n",
        "\n",
        "\n",
        "current_url = \"https://api.openweathermap.org/data/2.5/weather\"\n",
        "current_params = {\n",
        "    \"q\": f\"{city},{country}\",\n",
        "    \"appid\": api_key\n",
        "}\n",
        "\n",
        "current_response = requests.get(current_url, params=current_params).json()\n",
        "\n",
        "# Check if it's raining now\n",
        "is_raining_now = any(\"rain\" in condition[\"main\"].lower() for condition in current_response.get(\"weather\", []))\n",
        "\n",
        "print(\"A. Is it raining in Portland, OR right now?\")\n",
        "if is_raining_now:\n",
        "    print(\"Yes, it is currently raining in Portland.\")\n",
        "else:\n",
        "    print(\"No, it is not currently raining in Portland.\")\n",
        "\n",
        "\n",
        "forecast_url = \"https://api.openweathermap.org/data/2.5/forecast\"\n",
        "forecast_params = {\n",
        "    \"q\": f\"{city},{country}\",\n",
        "    \"appid\": api_key\n",
        "}\n",
        "\n",
        "forecast_response = requests.get(forecast_url, params=forecast_params).json()\n",
        "\n",
        "\n",
        "is_rain_forecasted = any(\n",
        "    \"rain\" in condition[\"main\"].lower()\n",
        "    for entry in forecast_response.get(\"list\", [])\n",
        "    for condition in entry.get(\"weather\", [])\n",
        ")\n",
        "\n",
        "print(\"\\nB. Is it forecasted to be raining in Portland within the next three days?\")\n",
        "if is_rain_forecasted:\n",
        "    print(\"Yes, it is forecasted to rain in Portland within the next 3 days.\")\n",
        "else:\n",
        "    print(\"No, there is no rain forecast in the next 3 days.\")\n"
      ]
    }
  ]
}