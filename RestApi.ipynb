{
  "nbformat": 4,
  "nbformat_minor": 0,
  "metadata": {
    "colab": {
      "provenance": [],
      "authorship_tag": "ABX9TyM48camqzmmotnyR64tfazr",
      "include_colab_link": true
    },
    "kernelspec": {
      "name": "python3",
      "display_name": "Python 3"
    },
    "language_info": {
      "name": "python"
    }
  },
  "cells": [
    {
      "cell_type": "markdown",
      "metadata": {
        "id": "view-in-github",
        "colab_type": "text"
      },
      "source": [
        "<a href=\"https://colab.research.google.com/github/jbtuku/Data-Gathering/blob/main/RestApi.ipynb\" target=\"_parent\"><img src=\"https://colab.research.google.com/assets/colab-badge.svg\" alt=\"Open In Colab\"/></a>"
      ]
    },
    {
      "cell_type": "code",
      "execution_count": 3,
      "metadata": {
        "colab": {
          "base_uri": "https://localhost:8080/"
        },
        "id": "7up-geSV2_TU",
        "outputId": "8e6ace13-d948-4399-8350-26a6678bbab3"
      },
      "outputs": [
        {
          "output_type": "stream",
          "name": "stdout",
          "text": [
            "Enter city name: Hillsboro\n",
            "\n",
            "Weather in Hillsboro:\n",
            "Temperature: 13.49°C\n",
            "Pressure: 1021 hPa\n",
            "Humidity: 53%\n",
            "Description: Overcast clouds\n"
          ]
        }
      ],
      "source": [
        "import requests\n",
        "import json\n",
        "\n",
        "# Replace this with your actual API key\n",
        "api_key = \"d9b0b632cd2847418cf82c736b50f309\"\n",
        "\n",
        "# Base URL (uses HTTPS)\n",
        "base_url = \"https://api.openweathermap.org/data/2.5/weather?\"\n",
        "\n",
        "# Take city name input\n",
        "city_name = input(\"Enter city name: \")\n",
        "\n",
        "# Construct final URL\n",
        "complete_url = f\"{base_url}q={city_name}&appid={api_key}\"\n",
        "\n",
        "# Send GET request\n",
        "response = requests.get(complete_url)\n",
        "\n",
        "# Convert response to JSON\n",
        "data = response.json()\n",
        "\n",
        "# Check for valid city\n",
        "if data[\"cod\"] != \"404\":\n",
        "    main = data[\"main\"]\n",
        "    weather = data[\"weather\"][0]\n",
        "\n",
        "    # Extract weather info\n",
        "    temp_k = main[\"temp\"]\n",
        "    temp_c = round(temp_k - 273.15, 2)\n",
        "    pressure = main[\"pressure\"]\n",
        "    humidity = main[\"humidity\"]\n",
        "    description = weather[\"description\"]\n",
        "\n",
        "    # Display results\n",
        "    print(f\"\\nWeather in {city_name.title()}:\")\n",
        "    print(f\"Temperature: {temp_c}°C\")\n",
        "    print(f\"Pressure: {pressure} hPa\")\n",
        "    print(f\"Humidity: {humidity}%\")\n",
        "    print(f\"Description: {description.capitalize()}\")\n",
        "else:\n",
        "    print(\"City not found.\")\n"
      ]
    }
  ]
}